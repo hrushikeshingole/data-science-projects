{
  "nbformat": 4,
  "nbformat_minor": 0,
  "metadata": {
    "colab": {
      "provenance": [],
      "authorship_tag": "ABX9TyMBoL2hmw6o3pWXzY36ebq8",
      "include_colab_link": true
    },
    "kernelspec": {
      "name": "python3",
      "display_name": "Python 3"
    },
    "language_info": {
      "name": "python"
    }
  },
  "cells": [
    {
      "cell_type": "markdown",
      "metadata": {
        "id": "view-in-github",
        "colab_type": "text"
      },
      "source": [
        "<a href=\"https://colab.research.google.com/github/hrushikeshingole/data-science-projects/blob/main/basic_pythons.ipynb\" target=\"_parent\"><img src=\"https://colab.research.google.com/assets/colab-badge.svg\" alt=\"Open In Colab\"/></a>"
      ]
    },
    {
      "cell_type": "code",
      "source": [
        "import pandas as pd\n",
        "import numpy as np\n",
        "import matplotlib.pyplot as plt\n",
        "import seaborn as sns\n"
      ],
      "metadata": {
        "id": "HyZyR0euwMrO"
      },
      "execution_count": null,
      "outputs": []
    },
    {
      "cell_type": "code",
      "source": [
        "pip install pyttsx3"
      ],
      "metadata": {
        "colab": {
          "base_uri": "https://localhost:8080/"
        },
        "id": "Gbair_Yc3Sos",
        "outputId": "bce08b6c-5c45-40fa-d6b9-710031266559"
      },
      "execution_count": null,
      "outputs": [
        {
          "output_type": "stream",
          "name": "stdout",
          "text": [
            "Collecting pyttsx3\n",
            "  Downloading pyttsx3-2.90-py3-none-any.whl.metadata (3.6 kB)\n",
            "Downloading pyttsx3-2.90-py3-none-any.whl (39 kB)\n",
            "Installing collected packages: pyttsx3\n",
            "Successfully installed pyttsx3-2.90\n"
          ]
        }
      ]
    },
    {
      "cell_type": "code",
      "source": [],
      "metadata": {
        "id": "xPjseZ0Z21aF"
      },
      "execution_count": null,
      "outputs": []
    },
    {
      "cell_type": "code",
      "execution_count": null,
      "metadata": {
        "id": "5hmyp-rIj6pk"
      },
      "outputs": [],
      "source": [
        "#complexity analysis\n",
        "#asymptotic analysis\n",
        "#find the trend and into precision"
      ]
    },
    {
      "cell_type": "markdown",
      "source": [
        "BigO notion- identify the trend\n",
        "O(n)- liner,O(1),O(logn){binnary search},O(n),O(nlogn){merg sort},O(n^2),O(2^n){fibonachi series},O(n!){worst}-----> to find whic operation is better\n",
        "*log(n) is the best for time and space complexity*"
      ],
      "metadata": {
        "id": "N2FQ8Urzm55X"
      }
    },
    {
      "cell_type": "markdown",
      "source": [
        "in log we divide by 2 like for 1 step it divide the n by half----> like 8->4->2->1"
      ],
      "metadata": {
        "id": "pOqTgDqQsrba"
      }
    },
    {
      "cell_type": "markdown",
      "source": [
        "space complexity- extra space need for algrothem and not the inpute.\n",
        "drop the constant and drop the insigfiant pieces"
      ],
      "metadata": {
        "id": "nnnNAiLtrvsH"
      }
    },
    {
      "cell_type": "markdown",
      "source": [
        "Arry- *Accessing and setting values in an array is a constant space and time operation.\n",
        "\n",
        "So we are not traversing the array for this.O(1)* as it only need 1 operation to access the element by using its slot address"
      ],
      "metadata": {
        "id": "FSF6mVx-sKfA"
      }
    },
    {
      "cell_type": "markdown",
      "source": [
        "traversing a arry is time  O(N) and space is O(1)\n",
        "\n",
        "coping and creation is S,T = 0(n)\n",
        "BACK TO BACK MEMORY SLOT\n",
        "\n",
        "\n",
        "INCERTING = 1. biggining=o(n)T\n",
        "2. end = o(1)T\n",
        "3. someware else= O(n)T\n",
        "all has apace is O(1)\n"
      ],
      "metadata": {
        "id": "1QDNsAs0thUX"
      }
    },
    {
      "cell_type": "markdown",
      "source": [
        "1.STATIC ARRAYS(c++ )- fix sized next or last memory slot may or may be not empty\n",
        "2.DYMANIC ARRAYS(JAVA script AND PYTHON HAVE ALL DYNAMIC ARRAYS): 0(1) inertion at the end--->allocate 2x time space so we can incert at constant time(amortisize)"
      ],
      "metadata": {
        "id": "aYLoEWaNu1Vc"
      }
    },
    {
      "cell_type": "markdown",
      "source": [
        "Q1 Everyone, let's do this question.\n",
        "\n",
        "You are given an array of integers in which each subsequent value is not less than the previous value. Right to function, that takes this array as an input and returns, and you agree with the squares of each number sorted in ascending order.**"
      ],
      "metadata": {
        "id": "UlzoIfjLxf-6"
      }
    },
    {
      "cell_type": "code",
      "source": [
        " def sorted_arry(arr):\n",
        "  arr =  int(input(\"enterd the n0\"))\n",
        "  sq = [x**2 for x in arr]\n",
        "  sq.sort()\n",
        "\n",
        "  return sq"
      ],
      "metadata": {
        "id": "FaNupwququiV"
      },
      "execution_count": null,
      "outputs": []
    },
    {
      "cell_type": "markdown",
      "source": [
        "module are pre build code as packet and we use so we dont need to code from scratch we install the by pip there are 2 types of modules inbult and external\n",
        "\n",
        "\n",
        "REPL ----> read evaluat print loop\n",
        "direct fun like addition etc"
      ],
      "metadata": {
        "id": "VOs7pEQ5wwUc"
      }
    },
    {
      "cell_type": "code",
      "source": [
        "# print a table, gtake the input from uers\n",
        "\n",
        "table = int(input(\"enter the value that you want a table:\"))\n",
        "for i in range (1,11):\n",
        "  print(table,\"*\",i,\"=\" ,table*i)"
      ],
      "metadata": {
        "colab": {
          "base_uri": "https://localhost:8080/"
        },
        "id": "Pm7qgI3IwWEk",
        "outputId": "0bda2887-fbdc-4ad4-fcfb-837f96083052"
      },
      "execution_count": null,
      "outputs": [
        {
          "output_type": "stream",
          "name": "stdout",
          "text": [
            "enter the value that you want a table:5\n",
            "5 * 1 = 5\n",
            "5 * 2 = 10\n",
            "5 * 3 = 15\n",
            "5 * 4 = 20\n",
            "5 * 5 = 25\n",
            "5 * 6 = 30\n",
            "5 * 7 = 35\n",
            "5 * 8 = 40\n",
            "5 * 9 = 45\n",
            "5 * 10 = 50\n"
          ]
        }
      ]
    },
    {
      "cell_type": "markdown",
      "source": [
        "varible and datatype----A variable is the name given to a memory location in a program\n",
        "\n",
        "DATA TYPES\n",
        "Primarily these are the following data types in Python:\n",
        "1. Integers\n",
        "2. Floating point numbers\n",
        "3. Strings\n",
        "4. Booleans\n",
        "5. None\n",
        "\n",
        "\n",
        "RULES FOR CHOOSING AN IDENTIFIER\n",
        "• A variable name can contain alphabets, digits, and underscores.\n",
        "\n",
        "• A variable name can only start with an alphabet and underscores.\n",
        "\n",
        "• A variable name can’t start with a digit.\n",
        "\n",
        "• No white space is allowed to be used inside a variable name.\n",
        "\n",
        "OPERATORS IN PYTHON\n",
        "Following are some common operators in python:\n",
        "1. Arithmetic operators: +, -, *, / etc.\n",
        "\n",
        "2. Assignment operators: =, +=, -= etc.\n",
        "\n",
        "3. Comparison operators: ==, >, >=, <, != etc.\n",
        "\n",
        "4. Logical operators: and, or, not.\n"
      ],
      "metadata": {
        "id": "SWduI9WU4QwU"
      }
    },
    {
      "cell_type": "code",
      "source": [
        "# Assignment operators: =, +=, -= etc.\n",
        "b =  6\n",
        "b += 5\n",
        "print(b)\n",
        "# its add +5 in b\n",
        "b -= 5\n",
        "print(b)\n",
        "\n",
        "# Comparison operators: ==, >, >=, <, != etc.\n",
        "c = 3\n",
        "d = b<c\n",
        "print(d)"
      ],
      "metadata": {
        "colab": {
          "base_uri": "https://localhost:8080/"
        },
        "id": "06DYNX8-50oZ",
        "outputId": "d094e215-f253-463b-854a-5a631f952bfd"
      },
      "execution_count": null,
      "outputs": [
        {
          "output_type": "stream",
          "name": "stdout",
          "text": [
            "11\n",
            "6\n",
            "False\n"
          ]
        }
      ]
    },
    {
      "cell_type": "code",
      "source": [
        "for i in range (1,11):\n",
        "  print(i)"
      ],
      "metadata": {
        "colab": {
          "base_uri": "https://localhost:8080/"
        },
        "id": "Jb0PM4c44Pr0",
        "outputId": "3b6a944f-e301-4d2a-f090-46e1f8ca969c"
      },
      "execution_count": null,
      "outputs": [
        {
          "output_type": "stream",
          "name": "stdout",
          "text": [
            "1\n",
            "2\n",
            "3\n",
            "4\n",
            "5\n",
            "6\n",
            "7\n",
            "8\n",
            "9\n",
            "10\n"
          ]
        }
      ]
    },
    {
      "cell_type": "markdown",
      "source": [
        "type() function is used to find the data type of a given variable in python.\n",
        "\n",
        "A number can be converted into a string and vice versa (if possible)\n",
        "There are many functions to convert one data type into another.\n",
        "str(31) =>\"31\" # integer to string conversion\n",
        "\n",
        "str(31) =>\"31\" # integer to string conversion\n",
        "\n",
        "int(\"32\") => 32 # string to integer conversion\n",
        "\n",
        "float(32) => 32.0 # integer to float conversion"
      ],
      "metadata": {
        "id": "LjMJ0GbL8Dpo"
      }
    },
    {
      "cell_type": "code",
      "source": [
        "a = 31\n",
        "print(type(a))\n"
      ],
      "metadata": {
        "colab": {
          "base_uri": "https://localhost:8080/"
        },
        "id": "LsuIAHHe2Lr0",
        "outputId": "1c8a4061-e562-40f0-bf53-a4359e89acfb"
      },
      "execution_count": null,
      "outputs": [
        {
          "output_type": "stream",
          "name": "stdout",
          "text": [
            "<class 'int'>\n"
          ]
        }
      ]
    },
    {
      "cell_type": "code",
      "source": [
        "# Write a python program to find remainder when a number is divided by z\n",
        "a = int(input(\"Enter the 1st no :\"))\n",
        "b = int(input(\"Enter the 1st no :\"))\n",
        "print(\"the riminer of \", a ,\"divide\", b, \"is =\", a%b )\n",
        "\n",
        "\n",
        "\n"
      ],
      "metadata": {
        "colab": {
          "base_uri": "https://localhost:8080/"
        },
        "id": "p5lNF0au2Lo0",
        "outputId": "9b765252-a518-4b48-9e56-7942d8f4f183"
      },
      "execution_count": null,
      "outputs": [
        {
          "output_type": "stream",
          "name": "stdout",
          "text": [
            "Enter the 1st no :13\n",
            "Enter the 1st no :5\n",
            "the riminer of  13 divide 5 is = 3\n"
          ]
        }
      ]
    },
    {
      "cell_type": "code",
      "source": [
        "# Write a python program to find an average of two numbers entered by the user.\n",
        "a = int(input(\"Enter the 1st no :\"))\n",
        "b = int(input(\"Enter the 1st no :\"))\n",
        "print(\"the avg of \", a ,\"and\", b, \"is =\", (a+b)/2 )\n",
        "\n"
      ],
      "metadata": {
        "colab": {
          "base_uri": "https://localhost:8080/"
        },
        "id": "VPBOczZb2LmE",
        "outputId": "5e0ca607-32be-4477-8c81-0471b40ae573"
      },
      "execution_count": null,
      "outputs": [
        {
          "output_type": "stream",
          "name": "stdout",
          "text": [
            "Enter the 1st no :5\n",
            "Enter the 1st no :4\n",
            "the avg of  5 and 4 is = 4.5\n"
          ]
        }
      ]
    },
    {
      "cell_type": "markdown",
      "source": [
        "String is a data type in python.\n",
        "String is a sequence of characters enclosed in quotes.\n",
        "We can primarily write a string in these three ways\n",
        "\n",
        "a ='harry' # Single quoted string\n",
        "b = \"harry\" # Double quoted string\n",
        "c = '''harry''' # Triple quoted string\n",
        "STRING SLICING\n",
        "A string in python can be sliced for getting a part of the strings."
      ],
      "metadata": {
        "id": "ouxInbf_A8_e"
      }
    },
    {
      "cell_type": "code",
      "source": [
        "a = \"hrushikesh\"\n",
        "print(a[0:3])\n",
        "print(a[:-1])\n",
        "print(a[::-1])"
      ],
      "metadata": {
        "colab": {
          "base_uri": "https://localhost:8080/"
        },
        "id": "dwQZu20Z2Lf9",
        "outputId": "79f59b50-1cbc-4b5c-f30a-0a9e664bc5aa"
      },
      "execution_count": null,
      "outputs": [
        {
          "output_type": "stream",
          "name": "stdout",
          "text": [
            "hru\n",
            "hrushikes\n",
            "hsekihsurh\n"
          ]
        }
      ]
    },
    {
      "cell_type": "code",
      "source": [],
      "metadata": {
        "id": "Ny6GK4Rc2LVk"
      },
      "execution_count": null,
      "outputs": []
    },
    {
      "cell_type": "code",
      "source": [],
      "metadata": {
        "id": "tkuuM5dP2LSV"
      },
      "execution_count": null,
      "outputs": []
    },
    {
      "cell_type": "code",
      "source": [],
      "metadata": {
        "id": "APLF564j2LPs"
      },
      "execution_count": null,
      "outputs": []
    },
    {
      "cell_type": "code",
      "source": [],
      "metadata": {
        "id": "DH3FVCt72LKt"
      },
      "execution_count": null,
      "outputs": []
    },
    {
      "cell_type": "code",
      "source": [],
      "metadata": {
        "id": "HTXtQDnn2LH8"
      },
      "execution_count": null,
      "outputs": []
    },
    {
      "cell_type": "code",
      "source": [],
      "metadata": {
        "id": "i2kDUaG32LE1"
      },
      "execution_count": null,
      "outputs": []
    },
    {
      "cell_type": "code",
      "source": [],
      "metadata": {
        "id": "ushMxulM2Kxd"
      },
      "execution_count": null,
      "outputs": []
    }
  ]
}